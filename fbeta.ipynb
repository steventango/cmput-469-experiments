{
 "cells": [
  {
   "cell_type": "code",
   "execution_count": null,
   "metadata": {},
   "outputs": [],
   "source": [
    "import numpy as np\n",
    "import sklearn.metrics as metrics\n"
   ]
  },
  {
   "cell_type": "code",
   "execution_count": null,
   "metadata": {},
   "outputs": [],
   "source": [
    "y_test = [0] * 1000 + [1] * 100\n",
    "y_pred = [0] * 950 + [1] * 50 + [0] * 99 + [1] * 1\n",
    "\n",
    "print(\"Precision: \", metrics.precision_score(y_test, y_pred))\n",
    "print(\"Recall: \", metrics.recall_score(y_test, y_pred))\n",
    "\n",
    "for b in np.arange(1.0, 20, 1):\n",
    "    print(\"Beta: \", b)\n",
    "    print(\"FB: \", metrics.fbeta_score(y_test, y_pred, beta=b))\n",
    "    print()\n"
   ]
  },
  {
   "cell_type": "code",
   "execution_count": null,
   "metadata": {},
   "outputs": [],
   "source": [
    "# (fn * 5 * 10 + p_fp * 1) / (2 * n)\n"
   ]
  },
  {
   "cell_type": "code",
   "execution_count": null,
   "metadata": {},
   "outputs": [],
   "source": [
    "# 10 no mange : 1 mange\n"
   ]
  }
 ],
 "metadata": {
  "kernelspec": {
   "display_name": "env",
   "language": "python",
   "name": "python3"
  },
  "language_info": {
   "codemirror_mode": {
    "name": "ipython",
    "version": 3
   },
   "file_extension": ".py",
   "mimetype": "text/x-python",
   "name": "python",
   "nbconvert_exporter": "python",
   "pygments_lexer": "ipython3",
   "version": "3.10.12"
  },
  "orig_nbformat": 4,
  "vscode": {
   "interpreter": {
    "hash": "64f985a8292b4c3a3b53b384951a21a79721f5fc8c70eddf40cd6565ccdc03ca"
   }
  }
 },
 "nbformat": 4,
 "nbformat_minor": 2
}

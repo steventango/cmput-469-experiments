{
 "cells": [
  {
   "cell_type": "code",
   "execution_count": 26,
   "metadata": {},
   "outputs": [],
   "source": [
    "import json"
   ]
  },
  {
   "cell_type": "code",
   "execution_count": 27,
   "metadata": {},
   "outputs": [],
   "source": [
    "string = '[[[550, 0], [83, 0]], [[1552, 0], [560, 0]], [[1142, 0], [168, 0]], [[1403, 0], [524, 0]], [[8184, 0], [594, 0]]]'\n",
    "array = list(map(json.loads, filter(len, string.split('\\t'))))"
   ]
  },
  {
   "cell_type": "code",
   "execution_count": 28,
   "metadata": {},
   "outputs": [],
   "source": [
    "def ec(confmat, cfn):\n",
    "    (tn, fp), (fn, tp) = confmat\n",
    "    # tp += fn\n",
    "    # fn = 0\n",
    "    # fp += tn\n",
    "    # tn = 0\n",
    "    tn += fp\n",
    "    fp = 0\n",
    "    fn += tp\n",
    "    tp = 0\n",
    "    return (tp + tn) / (tn + fp + fn + tp)\n",
    "    return (fp + cfn * fn) / (tn + fp + fn + tp)"
   ]
  },
  {
   "cell_type": "code",
   "execution_count": 29,
   "metadata": {},
   "outputs": [],
   "source": [
    "def avg_ec(confmats, cfn):\n",
    "    return sum(ec(confmat, cfn) for confmat in confmats) / len(confmats)"
   ]
  },
  {
   "cell_type": "code",
   "execution_count": 30,
   "metadata": {},
   "outputs": [],
   "source": [
    "ec5 = [avg_ec(confmats, 5) for confmats in array]\n",
    "ec10 = [avg_ec(confmats, 10) for confmats in array]\n",
    "ec50 = [avg_ec(confmats, 50) for confmats in array]"
   ]
  },
  {
   "cell_type": "code",
   "execution_count": 31,
   "metadata": {},
   "outputs": [
    {
     "name": "stdout",
     "output_type": "stream",
     "text": [
      "0.8271776243385591\n"
     ]
    }
   ],
   "source": [
    "print(\"\\t\".join(map(str, ec50)))"
   ]
  },
  {
   "cell_type": "code",
   "execution_count": 32,
   "metadata": {},
   "outputs": [
    {
     "name": "stdout",
     "output_type": "stream",
     "text": [
      "0.8271776243385591\n"
     ]
    }
   ],
   "source": [
    "print(\"\\t\".join(map(str, ec10)))"
   ]
  },
  {
   "cell_type": "code",
   "execution_count": 33,
   "metadata": {},
   "outputs": [
    {
     "name": "stdout",
     "output_type": "stream",
     "text": [
      "0.8271776243385591\n"
     ]
    }
   ],
   "source": [
    "print(\"\\t\".join(map(str, ec5)))"
   ]
  }
 ],
 "metadata": {
  "kernelspec": {
   "display_name": "env",
   "language": "python",
   "name": "python3"
  },
  "language_info": {
   "codemirror_mode": {
    "name": "ipython",
    "version": 3
   },
   "file_extension": ".py",
   "mimetype": "text/x-python",
   "name": "python",
   "nbconvert_exporter": "python",
   "pygments_lexer": "ipython3",
   "version": "3.10.10"
  },
  "orig_nbformat": 4,
  "vscode": {
   "interpreter": {
    "hash": "f80fc6aa78b7af1cf9644414b936d87a8b782647fff8191a8cc6b562d64bd9bb"
   }
  }
 },
 "nbformat": 4,
 "nbformat_minor": 2
}
